{
  "nbformat": 4,
  "nbformat_minor": 0,
  "metadata": {
    "colab": {
      "provenance": []
    },
    "kernelspec": {
      "name": "python3",
      "display_name": "Python 3"
    },
    "language_info": {
      "name": "python"
    }
  },
  "cells": [
    {
      "cell_type": "code",
      "execution_count": 1,
      "metadata": {
        "colab": {
          "base_uri": "https://localhost:8080/",
          "height": 383
        },
        "id": "fIDIR606fTxf",
        "outputId": "a3f42945-037b-4e6f-ec2e-0156cb2338df"
      },
      "outputs": [
        {
          "output_type": "error",
          "ename": "ModuleNotFoundError",
          "evalue": "No module named 'selenium'",
          "traceback": [
            "\u001b[0;31m---------------------------------------------------------------------------\u001b[0m",
            "\u001b[0;31mModuleNotFoundError\u001b[0m                       Traceback (most recent call last)",
            "\u001b[0;32m<ipython-input-1-0404049f513f>\u001b[0m in \u001b[0;36m<cell line: 2>\u001b[0;34m()\u001b[0m\n\u001b[1;32m      1\u001b[0m \u001b[0;32mfrom\u001b[0m \u001b[0mbs4\u001b[0m \u001b[0;32mimport\u001b[0m \u001b[0mBeautifulSoup\u001b[0m\u001b[0;34m\u001b[0m\u001b[0;34m\u001b[0m\u001b[0m\n\u001b[0;32m----> 2\u001b[0;31m \u001b[0;32mfrom\u001b[0m \u001b[0mselenium\u001b[0m \u001b[0;32mimport\u001b[0m \u001b[0mwebdriver\u001b[0m\u001b[0;34m\u001b[0m\u001b[0;34m\u001b[0m\u001b[0m\n\u001b[0m\u001b[1;32m      3\u001b[0m \u001b[0;32mfrom\u001b[0m \u001b[0mselenium\u001b[0m\u001b[0;34m.\u001b[0m\u001b[0mwebdriver\u001b[0m\u001b[0;34m.\u001b[0m\u001b[0mcommon\u001b[0m\u001b[0;34m.\u001b[0m\u001b[0mkeys\u001b[0m \u001b[0;32mimport\u001b[0m \u001b[0mKeys\u001b[0m\u001b[0;34m\u001b[0m\u001b[0;34m\u001b[0m\u001b[0m\n\u001b[1;32m      4\u001b[0m \u001b[0;32mfrom\u001b[0m \u001b[0mselenium\u001b[0m\u001b[0;34m.\u001b[0m\u001b[0mwebdriver\u001b[0m\u001b[0;34m.\u001b[0m\u001b[0mcommon\u001b[0m\u001b[0;34m.\u001b[0m\u001b[0mby\u001b[0m \u001b[0;32mimport\u001b[0m \u001b[0mBy\u001b[0m\u001b[0;34m\u001b[0m\u001b[0;34m\u001b[0m\u001b[0m\n\u001b[1;32m      5\u001b[0m \u001b[0;32mimport\u001b[0m \u001b[0mtime\u001b[0m\u001b[0;34m\u001b[0m\u001b[0;34m\u001b[0m\u001b[0m\n",
            "\u001b[0;31mModuleNotFoundError\u001b[0m: No module named 'selenium'",
            "",
            "\u001b[0;31m---------------------------------------------------------------------------\u001b[0;32m\nNOTE: If your import is failing due to a missing package, you can\nmanually install dependencies using either !pip or !apt.\n\nTo view examples of installing some common dependencies, click the\n\"Open Examples\" button below.\n\u001b[0;31m---------------------------------------------------------------------------\u001b[0m\n"
          ],
          "errorDetails": {
            "actions": [
              {
                "action": "open_url",
                "actionText": "Open Examples",
                "url": "/notebooks/snippets/importing_libraries.ipynb"
              }
            ]
          }
        }
      ],
      "source": [
        "from bs4 import BeautifulSoup\n",
        "from selenium import webdriver\n",
        "from selenium.webdriver.common.keys import Keys\n",
        "from selenium.webdriver.common.by import By\n",
        "import time\n",
        "\n",
        "# initialize the Chrome driver\n",
        "driver = webdriver.Chrome()\n",
        "\n",
        "# navigate to the URL\n",
        "driver.get(\"https://www.local.ch/en/\",)\n",
        "\n",
        "# Searching for \"Clinic\"\n",
        "def search_query(query):\n",
        "    search = driver.find_element(\"name\", \"what\")\n",
        "    search.clear()\n",
        "    time.sleep(3)\n",
        "    search.send_keys(query)\n",
        "    time.sleep(3)\n",
        "    search.send_keys(Keys.RETURN)\n",
        "    time.sleep(3)\n",
        "\n",
        "# extract the source code\n",
        "def source():\n",
        "    source_code = driver.page_source\n",
        "    # Sleep for 3 second\n",
        "    time.sleep(3)\n",
        "    # parse the source code with BeautifulSoup\n",
        "    soup = BeautifulSoup(source_code, \"html.parser\")\n",
        "    time.sleep(3)\n",
        "\n",
        "# Extracting the data\n",
        "def datasearch():\n",
        "    searchResult = driver.find_element(By.CLASS_NAME, \"search-header-results\")\n",
        "    data = searchResult.text\n",
        "    print(f\"there's {data}\\n\")\n",
        "    time.sleep(2)\n",
        "\n",
        "# Get the phone_numbers elements\n",
        "def data_scrape():\n",
        "    # data = driver.find_element(By.CLASS_NAME, \"col-xs-12.col-md-8\")\n",
        "    # Loop in data end extract phone numbers\n",
        "    components = driver.find_elements(By.CSS_SELECTOR, \".js-entry-card-container.row.lui-margin-vertical-xs.lui-sm-margin-vertical-m\")\n",
        "    for component in components:\n",
        "        name = component.find_element(By.CSS_SELECTOR, \".lui-margin-vertical-zero.card-info-title\").text\n",
        "        addre = component.find_element(By.CSS_SELECTOR, \".card-info-address\").text\n",
        "        phone = component.find_element(By.XPATH, './/a[@title=\"Call\"]').get_attribute('href').split('tel:')[1] if component.find_element(By.XPATH, './/a[@title=\"Call\"]') else None\n",
        "        print(f\"Name: {name}\\nAddress: {addre}\\n Phone: {phone}\\n\")\n",
        "\n",
        "\n",
        "\n",
        "# Sleep for 2 second\n",
        "search_query(\"Clinique\")\n",
        "source()\n",
        "datasearch()\n",
        "data_scrape()\n",
        "time.sleep(2)"
      ]
    }
  ]
}